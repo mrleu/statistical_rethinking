{
 "metadata": {
  "language_info": {
   "codemirror_mode": {
    "name": "ipython",
    "version": 3
   },
   "file_extension": ".py",
   "mimetype": "text/x-python",
   "name": "python",
   "nbconvert_exporter": "python",
   "pygments_lexer": "ipython3",
   "version": "3.9.1-final"
  },
  "orig_nbformat": 2,
  "kernelspec": {
   "name": "python39164bitstat88585a31dadb4bed9b0e7c29c9ad16dd",
   "display_name": "Python 3.9.1 64-bit ('stat')"
  }
 },
 "nbformat": 4,
 "nbformat_minor": 2,
 "cells": [
  {
   "cell_type": "markdown",
   "metadata": {},
   "source": [
    "There is no code on chapter 1."
   ]
  },
  {
   "cell_type": "markdown",
   "metadata": {},
   "source": [
    "Hypothesis are not models. The relationship between the model and the hypothesis is complex.\n",
    "\n",
    "Bayesian analysis takes the question in terms of model, and use logic to provide a probabilistic model.\n",
    "\n",
    "## Multilevel Model\n",
    "\n",
    "hierarchical model. It helps us with overfitting.\n",
    "It exploits the idea of partial pooling.\n",
    "- adjusts the sampling for the repeat sampling.\n",
    "- estimate for imbalanced\n",
    "- to study variance\n",
    "- to avoid averages"
   ]
  }
 ]
}